{
 "cells": [
  {
   "cell_type": "markdown",
   "id": "a2c789c5-f2d0-4c14-b16b-a5ebc07a736e",
   "metadata": {},
   "source": [
    "# Derivatives\n",
    "\n",
    "This notebook aims to be a place to refresh the concepts of derivatives"
   ]
  },
  {
   "cell_type": "code",
   "execution_count": 21,
   "id": "b20dacf2-1890-4eb5-b116-20c0e719c277",
   "metadata": {
    "execution": {
     "iopub.execute_input": "2023-07-29T14:55:49.356461Z",
     "iopub.status.busy": "2023-07-29T14:55:49.356155Z",
     "iopub.status.idle": "2023-07-29T14:55:49.361025Z",
     "shell.execute_reply": "2023-07-29T14:55:49.360272Z",
     "shell.execute_reply.started": "2023-07-29T14:55:49.356439Z"
    }
   },
   "outputs": [],
   "source": [
    "# Initial Settup\n",
    "\n",
    "import matplotlib.pyplot as plt\n",
    "import numpy as np\n",
    "\n",
    "%matplotlib inline"
   ]
  },
  {
   "cell_type": "code",
   "execution_count": 22,
   "id": "8ac735c3-680e-4dd7-834d-911c1ffe9596",
   "metadata": {
    "execution": {
     "iopub.execute_input": "2023-07-29T14:55:49.363074Z",
     "iopub.status.busy": "2023-07-29T14:55:49.362786Z",
     "iopub.status.idle": "2023-07-29T14:55:49.369615Z",
     "shell.execute_reply": "2023-07-29T14:55:49.368838Z",
     "shell.execute_reply.started": "2023-07-29T14:55:49.363046Z"
    }
   },
   "outputs": [
    {
     "data": {
      "text/plain": [
       "20.0"
      ]
     },
     "execution_count": 22,
     "metadata": {},
     "output_type": "execute_result"
    }
   ],
   "source": [
    "# Defining any function f(x)\n",
    "\n",
    "def f(x):\n",
    "    return 3*x**2 - 4*x + 5\n",
    "\n",
    "f(3.0)"
   ]
  },
  {
   "cell_type": "code",
   "execution_count": 23,
   "id": "f6c192e4-21cf-4350-9ec2-eb4414762f80",
   "metadata": {
    "execution": {
     "iopub.execute_input": "2023-07-29T14:55:49.483369Z",
     "iopub.status.busy": "2023-07-29T14:55:49.483073Z",
     "iopub.status.idle": "2023-07-29T14:55:49.569505Z",
     "shell.execute_reply": "2023-07-29T14:55:49.568965Z",
     "shell.execute_reply.started": "2023-07-29T14:55:49.483347Z"
    }
   },
   "outputs": [
    {
     "data": {
      "image/png": "[encoded data removed]",
      "text/plain": [
       "<Figure size 400x350 with 1 Axes>"
      ]
     },
     "metadata": {},
     "output_type": "display_data"
    }
   ],
   "source": [
    "# Plotting the defined function\n",
    "\n",
    "xs = np.arange(-5, 5, .25)\n",
    "ys = f(xs)\n",
    "\n",
    "plt.figure(figsize=(4, 3.5))\n",
    "\n",
    "plt.style.use('dark_background')\n",
    "\n",
    "plt.plot(xs, ys, color='lightgreen')\n",
    "plt.suptitle('Graph of function f(x)')\n",
    "plt.xlabel('x values')\n",
    "plt.ylabel('y values')\n",
    "plt.grid()\n",
    "\n",
    "plt.show()"
   ]
  },
  {
   "cell_type": "code",
   "execution_count": 24,
   "id": "70c2480d-f918-4550-af5a-bedd60bc2e50",
   "metadata": {
    "execution": {
     "iopub.execute_input": "2023-07-29T14:55:49.571180Z",
     "iopub.status.busy": "2023-07-29T14:55:49.570639Z",
     "iopub.status.idle": "2023-07-29T14:55:49.575669Z",
     "shell.execute_reply": "2023-07-29T14:55:49.575222Z",
     "shell.execute_reply.started": "2023-07-29T14:55:49.571159Z"
    }
   },
   "outputs": [
    {
     "name": "stdout",
     "output_type": "stream",
     "text": [
      "The derivative of f(x) when x = 3.0 is equal to 14.00!\n",
      "The derivative of f(x) when x = -3.0 is equal to -22.00!\n",
      "The derivative of this function is 0 when x equals to 2/3. df/dx = 0.00!\n"
     ]
    }
   ],
   "source": [
    "# Getting the derivative values at three specific points\n",
    "\n",
    "def get_derivative(function, x, h) -> float:\n",
    "    return (function(x + h) - function(x)) / h\n",
    "\n",
    "dfdx = get_derivative\n",
    "\n",
    "dfdx_3p = dfdx(f, 3., 1e-8)\n",
    "print(f'The derivative of f(x) when x = 3.0 is equal to {dfdx_3p:.2f}!')\n",
    "\n",
    "dfdx_3n = dfdx(f, -3., 1e-8)\n",
    "print(f'The derivative of f(x) when x = -3.0 is equal to {dfdx_3n:.2f}!')\n",
    "\n",
    "dfdx_2o3 = dfdx(f, 2/3, 1e-8)\n",
    "print(f'The derivative of this function is 0 when x equals to 2/3. df/dx = {dfdx_2o3:.2f}!')"
   ]
  },
  {
   "cell_type": "code",
   "execution_count": 25,
   "id": "56d8b47f-d3c0-41d1-b6e9-3bbe3f40e11b",
   "metadata": {
    "execution": {
     "iopub.execute_input": "2023-07-29T14:55:49.576976Z",
     "iopub.status.busy": "2023-07-29T14:55:49.576394Z",
     "iopub.status.idle": "2023-07-29T14:55:49.583458Z",
     "shell.execute_reply": "2023-07-29T14:55:49.583000Z",
     "shell.execute_reply.started": "2023-07-29T14:55:49.576956Z"
    }
   },
   "outputs": [
    {
     "name": "stdout",
     "output_type": "stream",
     "text": [
      "Derivative of f with respect to a:\n",
      "\n",
      "dfda_1:  4.0\n",
      "dfda_2:  3.999699999999999\n",
      "slope:  -3.000000000010772\n",
      "\n",
      "Derivative of f with respect to b:\n",
      "\n",
      "dfdb_1:  4.0\n",
      "dfdb_2:  4.0002\n",
      "slope:  2.0000000000042206\n",
      "\n",
      "Derivative of f with respect to c:\n",
      "\n",
      "dfdc_1:  4.0\n",
      "dfdc_2:  4.0001\n",
      "slope:  0.9999999999976694\n"
     ]
    }
   ],
   "source": [
    "# Getting more complexy by defining three variables\n",
    "\n",
    "h = 1e-4\n",
    "\n",
    "a = 2.\n",
    "b = -3.\n",
    "c = 10.\n",
    "f = lambda a: a * b + c\n",
    "\n",
    "# Derivative of f with respect to a\n",
    "\n",
    "dfda_1 = f(a)\n",
    "\n",
    "a += h\n",
    "\n",
    "dfda_2 = f(a)\n",
    "\n",
    "print('Derivative of f with respect to a:\\n')\n",
    "print('dfda_1: ', dfda_1)\n",
    "print('dfda_2: ', dfda_2)\n",
    "print('slope: ', (dfda_2 - dfda_1) / h)\n",
    "\n",
    "# Derivative of f with respect to b\n",
    "\n",
    "a = 2.\n",
    "b = -3.\n",
    "c = 10.\n",
    "f = lambda b: a * b + c\n",
    "\n",
    "dfdb_1 = f(b)\n",
    "\n",
    "b += h\n",
    "\n",
    "dfdb_2 = f(b)\n",
    "\n",
    "print('\\nDerivative of f with respect to b:\\n')\n",
    "print('dfdb_1: ', dfdb_1)\n",
    "print('dfdb_2: ', dfdb_2)\n",
    "print('slope: ', (dfdb_2 - dfdb_1) / h)\n",
    "\n",
    "# Derivative of f with respect to c\n",
    "\n",
    "a = 2.\n",
    "b = -3.\n",
    "c = 10.\n",
    "f = lambda c: a * b + c\n",
    "\n",
    "dfdc_1 = f(c)\n",
    "\n",
    "c += h\n",
    "\n",
    "dfdc_2 = f(c)\n",
    "\n",
    "print('\\nDerivative of f with respect to c:\\n')\n",
    "print('dfdc_1: ', dfdc_1)\n",
    "print('dfdc_2: ', dfdc_2)\n",
    "print('slope: ', (dfdc_2 - dfdc_1) / h)"
   ]
  }
 ],
 "metadata": {
  "kernelspec": {
   "display_name": "Python 3 (ipykernel)",
   "language": "python",
   "name": "python3"
  },
  "language_info": {
   "codemirror_mode": {
    "name": "ipython",
    "version": 3
   },
   "file_extension": ".py",
   "mimetype": "text/x-python",
   "name": "python",
   "nbconvert_exporter": "python",
   "pygments_lexer": "ipython3",
   "version": "3.9.16"
  }
 },
 "nbformat": 4,
 "nbformat_minor": 5
}
